{
 "cells": [
  {
   "cell_type": "markdown",
   "metadata": {},
   "source": [
    "# Question 3"
   ]
  },
  {
   "cell_type": "code",
   "execution_count": 1,
   "metadata": {
    "id": "OCPrJ_6ij5LN"
   },
   "outputs": [],
   "source": [
    "import numpy as np\n",
    "from numpy import c_"
   ]
  },
  {
   "cell_type": "markdown",
   "metadata": {},
   "source": [
    "## 3.a)"
   ]
  },
  {
   "cell_type": "code",
   "execution_count": 2,
   "metadata": {
    "colab": {
     "base_uri": "https://localhost:8080/",
     "height": 85
    },
    "id": "KuK9BE7lkGBu",
    "outputId": "1c8e825e-ce02-47ea-8be7-581ba0cac7c4"
   },
   "outputs": [
    {
     "data": {
      "text/plain": [
       "matrix([[0.4, 0.5, 0.2, 0. ],\n",
       "        [0.3, 0. , 0.4, 0. ],\n",
       "        [0.3, 0. , 0.4, 0. ],\n",
       "        [0. , 0.5, 0. , 1. ]])"
      ]
     },
     "execution_count": 2,
     "metadata": {},
     "output_type": "execute_result"
    }
   ],
   "source": [
    "# create the matrix M:\n",
    "M = np.matrix([[0.4, 0.5, 0.2, 0.0],\n",
    "               [0.3, 0.0, 0.4, 0.0],\n",
    "               [0.3, 0.0, 0.4, 0.0],\n",
    "               [0.0, 0.5, 0.0, 1.0]])\n",
    "M"
   ]
  },
  {
   "cell_type": "markdown",
   "metadata": {},
   "source": [
    "## 3.b)"
   ]
  },
  {
   "cell_type": "code",
   "execution_count": 3,
   "metadata": {
    "colab": {
     "base_uri": "https://localhost:8080/",
     "height": 85
    },
    "id": "jF42al7mnDl5",
    "outputId": "147da43b-c1bf-49ec-868a-4cf41e388474"
   },
   "outputs": [
    {
     "data": {
      "text/plain": [
       "matrix([[100],\n",
       "        [200],\n",
       "        [  0],\n",
       "        [  0]])"
      ]
     },
     "execution_count": 3,
     "metadata": {},
     "output_type": "execute_result"
    }
   ],
   "source": [
    "# At t0 100mg at A and 200mg at B\n",
    "t0 = np.matrix([[100], [200], [0], [0]])\n",
    "t0"
   ]
  },
  {
   "cell_type": "code",
   "execution_count": 4,
   "metadata": {
    "colab": {
     "base_uri": "https://localhost:8080/",
     "height": 85
    },
    "id": "wcCvmePJnTh8",
    "outputId": "1564782e-9acb-460f-b1f5-7772b3ea4fef"
   },
   "outputs": [
    {
     "data": {
      "text/plain": [
       "matrix([[140.],\n",
       "        [ 30.],\n",
       "        [ 30.],\n",
       "        [100.]])"
      ]
     },
     "execution_count": 4,
     "metadata": {},
     "output_type": "execute_result"
    }
   ],
   "source": [
    "M*t0"
   ]
  },
  {
   "cell_type": "code",
   "execution_count": 5,
   "metadata": {
    "colab": {
     "base_uri": "https://localhost:8080/",
     "height": 85
    },
    "id": "0fjb-Hahs23M",
    "outputId": "03c36190-d447-459d-ab5c-380d282a716e"
   },
   "outputs": [
    {
     "data": {
      "text/plain": [
       "matrix([[ 77.],\n",
       "        [ 54.],\n",
       "        [ 54.],\n",
       "        [115.]])"
      ]
     },
     "execution_count": 5,
     "metadata": {},
     "output_type": "execute_result"
    }
   ],
   "source": [
    "# Patient is measured every 5 mins. t=10 mins means 2 simulations\n",
    "M ** 2  * t0"
   ]
  },
  {
   "cell_type": "code",
   "execution_count": 6,
   "metadata": {},
   "outputs": [
    {
     "data": {
      "text/plain": [
       "matrix([[ 58.73],\n",
       "        [ 38.46],\n",
       "        [ 38.46],\n",
       "        [164.35]])"
      ]
     },
     "execution_count": 6,
     "metadata": {},
     "output_type": "execute_result"
    }
   ],
   "source": [
    "# Patient is measured every 5 mins. t=20 mins means 4 simulations\n",
    "M ** 4  * t0"
   ]
  },
  {
   "cell_type": "markdown",
   "metadata": {},
   "source": [
    "##  3.c)"
   ]
  },
  {
   "cell_type": "code",
   "execution_count": 7,
   "metadata": {},
   "outputs": [
    {
     "data": {
      "text/plain": [
       "matrix([[7.04863641e-02],\n",
       "        [4.61441570e-02],\n",
       "        [4.61441570e-02],\n",
       "        [2.99837225e+02]])"
      ]
     },
     "execution_count": 7,
     "metadata": {},
     "output_type": "execute_result"
    }
   ],
   "source": [
    "# Patient is measured every 5 mins. After 4 hours, t=240 mins means 48 simulations\n",
    "M ** 48  * t0"
   ]
  },
  {
   "cell_type": "markdown",
   "metadata": {},
   "source": [
    "## All together"
   ]
  },
  {
   "cell_type": "code",
   "execution_count": 8,
   "metadata": {
    "colab": {
     "base_uri": "https://localhost:8080/",
     "height": 85
    },
    "id": "_ZYXMv4aqYmN",
    "outputId": "27bd713e-4e92-456f-fd50-d7294766160f"
   },
   "outputs": [
    {
     "name": "stdout",
     "output_type": "stream",
     "text": [
      "[[1.0000e+02 1.4000e+02 7.7000e+01 5.8730e+01 7.0000e-02]\n",
      " [2.0000e+02 3.0000e+01 5.4000e+01 3.8460e+01 5.0000e-02]\n",
      " [0.0000e+00 3.0000e+01 5.4000e+01 3.8460e+01 5.0000e-02]\n",
      " [0.0000e+00 1.0000e+02 1.1500e+02 1.6435e+02 2.9984e+02]]\n"
     ]
    }
   ],
   "source": [
    "#  The initial state of the system:\n",
    "t0 = np.matrix([[100], [200], [0], [0]])\n",
    "\n",
    "#Make a matrix, where each column is the result \n",
    "#of applying the matrix multiple times to the initial state x0:\n",
    "\n",
    "X = np.c_[t0, M*t0, M**2 * t0, M**4 * t0, M**48 * t0]\n",
    "\n",
    "#print out the X matrix, rounding the entries to 2 decimal places\n",
    "print(X.round(2))\n"
   ]
  },
  {
   "cell_type": "markdown",
   "metadata": {},
   "source": [
    "## 3.d)"
   ]
  },
  {
   "cell_type": "code",
   "execution_count": 9,
   "metadata": {},
   "outputs": [
    {
     "name": "stdout",
     "output_type": "stream",
     "text": [
      "Inverse does not exist\n"
     ]
    }
   ],
   "source": [
    "# find the determinant of the matrix\n",
    "det = np.linalg.det(M)\n",
    "\n",
    "# check if the matrix is invertible\n",
    "if det == 0:\n",
    "    print(\"Inverse does not exist\")\n",
    "else:\n",
    "    # find the inverse of the matrix\n",
    "    A_inv = np.linalg.inv(M)\n",
    "    print(A_inv)"
   ]
  }
 ],
 "metadata": {
  "colab": {
   "name": "The Ski Hill - Transition Matrices and Markov Chains.ipynb",
   "provenance": []
  },
  "kernelspec": {
   "display_name": "Python 3 (ipykernel)",
   "language": "python",
   "name": "python3"
  },
  "language_info": {
   "codemirror_mode": {
    "name": "ipython",
    "version": 3
   },
   "file_extension": ".py",
   "mimetype": "text/x-python",
   "name": "python",
   "nbconvert_exporter": "python",
   "pygments_lexer": "ipython3",
   "version": "3.10.4"
  }
 },
 "nbformat": 4,
 "nbformat_minor": 1
}
