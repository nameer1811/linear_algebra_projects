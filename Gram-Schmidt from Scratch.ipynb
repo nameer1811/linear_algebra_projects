{
 "cells": [
  {
   "cell_type": "code",
   "execution_count": 3,
   "id": "33345397",
   "metadata": {},
   "outputs": [],
   "source": [
    "import matplotlib.pyplot as plt\n",
    "from sympy import Poly\n",
    "import sympy as sym\n",
    "import numpy as np \n",
    "from numpy import c_"
   ]
  },
  {
   "cell_type": "code",
   "execution_count": null,
   "id": "0ea1c5dd",
   "metadata": {},
   "outputs": [],
   "source": [
    "# We'll specify that x and t are variables:\n",
    "\n",
    "x, t = sym.symbols('x,t')\n",
    "\n",
    "ll= \"loaded\""
   ]
  },
  {
   "cell_type": "markdown",
   "id": "e5f03ede",
   "metadata": {},
   "source": [
    "### Let's figure out how to do vector operations:"
   ]
  },
  {
   "cell_type": "code",
   "execution_count": 9,
   "id": "7dbe93b1",
   "metadata": {
    "scrolled": true
   },
   "outputs": [
    {
     "data": {
      "text/plain": [
       "array([1, 2, 3])"
      ]
     },
     "execution_count": 9,
     "metadata": {},
     "output_type": "execute_result"
    }
   ],
   "source": [
    "# Create a vector:\n",
    "r1 = np.array([1,2,3])\n",
    "r1"
   ]
  },
  {
   "cell_type": "code",
   "execution_count": 10,
   "id": "b3c11096",
   "metadata": {},
   "outputs": [
    {
     "data": {
      "text/plain": [
       "array([-3, -6, -9])"
      ]
     },
     "execution_count": 10,
     "metadata": {},
     "output_type": "execute_result"
    }
   ],
   "source": [
    "# Vector Arithmetic\n",
    "-3 * r1"
   ]
  },
  {
   "cell_type": "code",
   "execution_count": 11,
   "id": "ce3598f0",
   "metadata": {},
   "outputs": [
    {
     "data": {
      "text/plain": [
       "14"
      ]
     },
     "execution_count": 11,
     "metadata": {},
     "output_type": "execute_result"
    }
   ],
   "source": [
    "# Vector dot product\n",
    "r1.dot(r1)"
   ]
  },
  {
   "cell_type": "code",
   "execution_count": 14,
   "id": "4dd02187",
   "metadata": {},
   "outputs": [
    {
     "data": {
      "text/plain": [
       "3.7416573867739413"
      ]
     },
     "execution_count": 14,
     "metadata": {},
     "output_type": "execute_result"
    }
   ],
   "source": [
    "# Magnitude\n",
    "np.sqrt(r1.dot(r1))"
   ]
  },
  {
   "cell_type": "markdown",
   "id": "fb62c96e",
   "metadata": {},
   "source": [
    "### Implement Gram-Schmidt on 4 vectors"
   ]
  },
  {
   "cell_type": "code",
   "execution_count": 15,
   "id": "ee3d85aa",
   "metadata": {},
   "outputs": [],
   "source": [
    "r1 = np.array([3,0,3,0])\n",
    "r2 = np.array([3,2,3,3])\n",
    "r3 = np.array([-7,-4,-5,-6])\n",
    "r4 = np.array([-7,-3,-11,2])"
   ]
  },
  {
   "cell_type": "markdown",
   "id": "efcb2468",
   "metadata": {},
   "source": [
    "### Process $r_{1}$"
   ]
  },
  {
   "cell_type": "code",
   "execution_count": 38,
   "id": "e15f3769",
   "metadata": {
    "scrolled": true
   },
   "outputs": [
    {
     "name": "stdout",
     "output_type": "stream",
     "text": [
      "t1 =  [3 0 3 0]\n",
      "magnitude of t1 =  4.242640687119285\n",
      "The nice vector is  [0.70710678 0.         0.70710678 0.        ]\n"
     ]
    }
   ],
   "source": [
    "# Choose the r1 vector and substract off the \"Nice Orthogoanl piece\"\n",
    "t1 = r1\n",
    "print(\"t1 = \", t1)\n",
    "\n",
    "# Find the size of t1\n",
    "m = np.sqrt(t1.dot(t1))\n",
    "print(\"magnitude of t1 = \", m)\n",
    "\n",
    "# THe nice vector is u1 = t1/m\n",
    "u1 = t1/m\n",
    "print(\"The nice vector is \",u1)"
   ]
  },
  {
   "cell_type": "code",
   "execution_count": 32,
   "id": "945fe4c1",
   "metadata": {},
   "outputs": [
    {
     "name": "stdout",
     "output_type": "stream",
     "text": [
      "The size of u1 is =  1.0\n"
     ]
    }
   ],
   "source": [
    "# Sanity Check\n",
    "print(\"The size of u1 is = \", np.sqrt(u1.dot(u1)))"
   ]
  },
  {
   "cell_type": "markdown",
   "id": "1e733183",
   "metadata": {},
   "source": [
    "### Process $r_{2}$"
   ]
  },
  {
   "cell_type": "code",
   "execution_count": 39,
   "id": "2fcbb6a7",
   "metadata": {
    "scrolled": true
   },
   "outputs": [
    {
     "name": "stdout",
     "output_type": "stream",
     "text": [
      "t2 =  [-4.4408921e-16  2.0000000e+00 -4.4408921e-16  3.0000000e+00]\n",
      "magnitude of t2 =  3.605551275463989\n",
      "The nice vector is [-1.23168186e-16  5.54700196e-01 -1.23168186e-16  8.32050294e-01]\n"
     ]
    }
   ],
   "source": [
    "# Choose the r2 vector and substract off the \"Nice Orthogonal piece\"\n",
    "t2 = r2 - (r2.dot(u1)*u1)\n",
    "print(\"t2 = \", t2)\n",
    "\n",
    "# Find the size of t2\n",
    "m = np.sqrt(t2.dot(t2))\n",
    "print(\"magnitude of t2 = \", m)\n",
    "\n",
    "# THe nice vector is u2 = t2/m\n",
    "u2 = t2/m\n",
    "print(\"The nice vector is\", u2)"
   ]
  },
  {
   "cell_type": "code",
   "execution_count": 36,
   "id": "eb46a5c6",
   "metadata": {},
   "outputs": [
    {
     "name": "stdout",
     "output_type": "stream",
     "text": [
      "The size of u2 is =  1.0\n"
     ]
    }
   ],
   "source": [
    "# Sanity Check\n",
    "print(\"The size of u2 is = \", np.sqrt(u2.dot(u2)))"
   ]
  }
 ],
 "metadata": {
  "kernelspec": {
   "display_name": "Python 3 (ipykernel)",
   "language": "python",
   "name": "python3"
  },
  "language_info": {
   "codemirror_mode": {
    "name": "ipython",
    "version": 3
   },
   "file_extension": ".py",
   "mimetype": "text/x-python",
   "name": "python",
   "nbconvert_exporter": "python",
   "pygments_lexer": "ipython3",
   "version": "3.10.4"
  }
 },
 "nbformat": 4,
 "nbformat_minor": 5
}
