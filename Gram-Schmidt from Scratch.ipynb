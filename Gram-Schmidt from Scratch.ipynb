{
 "cells": [
  {
   "cell_type": "markdown",
   "id": "57aa3438",
   "metadata": {},
   "source": [
    "<a href=\"https://colab.research.google.com/github/nameer1811/linear_algebra_projects/blob/main/Gram-Schmidt%20from%20Scratch.ipynb\" target=\"_parent\"><img src=\"https://colab.research.google.com/assets/colab-badge.svg\" alt=\"Open In Colab\"/></a>"
   ]
  },
  {
   "cell_type": "code",
   "execution_count": 1,
   "id": "33345397",
   "metadata": {},
   "outputs": [],
   "source": [
    "import matplotlib.pyplot as plt\n",
    "from sympy import Poly\n",
    "import sympy as sym\n",
    "import numpy as np \n",
    "from numpy import c_"
   ]
  },
  {
   "cell_type": "code",
   "execution_count": 2,
   "id": "0ea1c5dd",
   "metadata": {},
   "outputs": [],
   "source": [
    "# We'll specify that x and t are variables:\n",
    "\n",
    "x, t = sym.symbols('x,t')\n",
    "\n",
    "ll= \"loaded\""
   ]
  },
  {
   "cell_type": "markdown",
   "id": "e5f03ede",
   "metadata": {},
   "source": [
    "### Let's figure out how to do vector operations:"
   ]
  },
  {
   "cell_type": "code",
   "execution_count": 3,
   "id": "7dbe93b1",
   "metadata": {
    "scrolled": true
   },
   "outputs": [
    {
     "data": {
      "text/plain": [
       "array([1, 2, 3])"
      ]
     },
     "execution_count": 3,
     "metadata": {},
     "output_type": "execute_result"
    }
   ],
   "source": [
    "# Create a vector:\n",
    "r1 = np.array([1,2,3])\n",
    "r1"
   ]
  },
  {
   "cell_type": "code",
   "execution_count": 4,
   "id": "b3c11096",
   "metadata": {},
   "outputs": [
    {
     "data": {
      "text/plain": [
       "array([-3, -6, -9])"
      ]
     },
     "execution_count": 4,
     "metadata": {},
     "output_type": "execute_result"
    }
   ],
   "source": [
    "# Vector Arithmetic\n",
    "-3 * r1"
   ]
  },
  {
   "cell_type": "code",
   "execution_count": 5,
   "id": "ce3598f0",
   "metadata": {},
   "outputs": [
    {
     "data": {
      "text/plain": [
       "14"
      ]
     },
     "execution_count": 5,
     "metadata": {},
     "output_type": "execute_result"
    }
   ],
   "source": [
    "# Vector dot product\n",
    "r1.dot(r1)"
   ]
  },
  {
   "cell_type": "code",
   "execution_count": 6,
   "id": "4dd02187",
   "metadata": {},
   "outputs": [
    {
     "data": {
      "text/plain": [
       "3.7416573867739413"
      ]
     },
     "execution_count": 6,
     "metadata": {},
     "output_type": "execute_result"
    }
   ],
   "source": [
    "# Magnitude\n",
    "np.sqrt(r1.dot(r1))"
   ]
  },
  {
   "cell_type": "markdown",
   "id": "fb62c96e",
   "metadata": {},
   "source": [
    "### Implement Gram-Schmidt on 4 vectors"
   ]
  },
  {
   "cell_type": "code",
   "execution_count": 7,
   "id": "ee3d85aa",
   "metadata": {},
   "outputs": [],
   "source": [
    "r1 = np.array([3,0,3,0])\n",
    "r2 = np.array([3,2,3,3])\n",
    "r3 = np.array([-7,-4,-5,-6])\n",
    "r4 = np.array([-7,-3,-11,2])"
   ]
  },
  {
   "cell_type": "markdown",
   "id": "efcb2468",
   "metadata": {},
   "source": [
    "### Process $r_{1}$"
   ]
  },
  {
   "cell_type": "code",
   "execution_count": 8,
   "id": "e15f3769",
   "metadata": {
    "scrolled": true
   },
   "outputs": [
    {
     "name": "stdout",
     "output_type": "stream",
     "text": [
      "t1 =  [3 0 3 0] \n",
      "\n",
      "magnitude of t1 =  4.242640687119285 \n",
      "\n",
      "The nice vector is  [0.70710678 0.         0.70710678 0.        ] \n",
      "\n",
      "The size of u1 is =  1.0\n"
     ]
    }
   ],
   "source": [
    "# Choose the r1 vector and substract off the \"Nice Orthogoanl piece\"\n",
    "t1 = r1\n",
    "print(\"t1 = \", t1, \"\\n\")\n",
    "\n",
    "# Find the size of t1\n",
    "m = np.sqrt(t1.dot(t1))\n",
    "print(\"magnitude of t1 = \", m, \"\\n\")\n",
    "\n",
    "# THe nice vector is u1 = t1/m\n",
    "u1 = t1/m\n",
    "print(\"The nice vector is \",u1, \"\\n\")\n",
    "\n",
    "# Sanity Check\n",
    "print(\"The size of u1 is = \", np.sqrt(u1.dot(u1)))"
   ]
  },
  {
   "cell_type": "markdown",
   "id": "1e733183",
   "metadata": {},
   "source": [
    "### Process $r_{2}$"
   ]
  },
  {
   "cell_type": "code",
   "execution_count": 9,
   "id": "2fcbb6a7",
   "metadata": {
    "scrolled": true
   },
   "outputs": [
    {
     "name": "stdout",
     "output_type": "stream",
     "text": [
      "t2 =  [-4.4408921e-16  2.0000000e+00 -4.4408921e-16  3.0000000e+00] \n",
      "\n",
      "magnitude of t2 =  3.605551275463989 \n",
      "\n",
      "The nice vector is [-1.23168186e-16  5.54700196e-01 -1.23168186e-16  8.32050294e-01] \n",
      "\n",
      "The size of u2 is =  1.0\n"
     ]
    }
   ],
   "source": [
    "# Choose the r2 vector and substract off the \"Nice Orthogonal piece\"\n",
    "t2 = r2 - (r2.dot(u1)*u1)\n",
    "print(\"t2 = \", t2, \"\\n\")\n",
    "\n",
    "# Find the size of t2\n",
    "m = np.sqrt(t2.dot(t2))\n",
    "print(\"magnitude of t2 = \", m, \"\\n\")\n",
    "\n",
    "# THe nice vector is u2 = t2/m\n",
    "u2 = t2/m\n",
    "print(\"The nice vector is\", u2, \"\\n\")\n",
    "\n",
    "# Sanity Check\n",
    "print(\"The size of u2 is = \", np.sqrt(u2.dot(u2)))"
   ]
  },
  {
   "cell_type": "markdown",
   "id": "988bcb78",
   "metadata": {},
   "source": [
    "### Process $r_{3}$"
   ]
  },
  {
   "cell_type": "code",
   "execution_count": 10,
   "id": "326a7243",
   "metadata": {},
   "outputs": [
    {
     "name": "stdout",
     "output_type": "stream",
     "text": [
      "t3 =  [-1.0000000e+00 -4.4408921e-16  1.0000000e+00 -8.8817842e-16] \n",
      "\n",
      "magnitude of t3 =  1.4142135623730951 \n",
      "\n",
      "The nice vector is [-7.07106781e-01 -3.14018492e-16  7.07106781e-01 -6.28036983e-16] \n",
      "\n",
      "The size of u3 is =  0.9999999999999999\n"
     ]
    }
   ],
   "source": [
    "# Choose the r2 vector and substract off the \"Nice Orthogonal piece\"\n",
    "t3 = r3 - (r3.dot(u1)*u1) - (r3.dot(u2)*u2)\n",
    "print(\"t3 = \", t3, \"\\n\")\n",
    "\n",
    "# Find the size of t2\n",
    "m = np.sqrt(t3.dot(t3))\n",
    "print(\"magnitude of t3 = \", m, \"\\n\")\n",
    "\n",
    "# The nice vector is u2 = t2/m\n",
    "u3 = t3/m\n",
    "print(\"The nice vector is\", u3, \"\\n\")\n",
    "\n",
    "# Sanity Check\n",
    "print(\"The size of u3 is = \", np.sqrt(u3.dot(u3)))"
   ]
  },
  {
   "cell_type": "markdown",
   "id": "c6169110",
   "metadata": {},
   "source": [
    "### Process $r_{4}$"
   ]
  },
  {
   "cell_type": "code",
   "execution_count": 11,
   "id": "2cedb01f",
   "metadata": {},
   "outputs": [
    {
     "name": "stdout",
     "output_type": "stream",
     "text": [
      "t4 =  [ 0. -3.  0.  2.] \n",
      "\n",
      "magnitude of t4 =  3.605551275463989 \n",
      "\n",
      "The nice vector is [ 0.         -0.83205029  0.          0.5547002 ] \n",
      "\n",
      "The size of u4 is =  1.0\n"
     ]
    }
   ],
   "source": [
    "# Choose the r2 vector and substract off the \"Nice Orthogonal piece\"\n",
    "t4 = r4 - (r4.dot(u1)*u1) - (r4.dot(u2)*u2) - (r4.dot(u3)*u3)\n",
    "print(\"t4 = \", t4, \"\\n\")\n",
    "\n",
    "# Find the size of t2\n",
    "m = np.sqrt(t4.dot(t4))\n",
    "print(\"magnitude of t4 = \", m, \"\\n\")\n",
    "\n",
    "# The nice vector is u2 = t2/m\n",
    "u4 = t4/m\n",
    "print(\"The nice vector is\", u4, \"\\n\")\n",
    "# Sanity Check\n",
    "print(\"The size of u4 is = \", np.sqrt(u4.dot(u4)))"
   ]
  },
  {
   "cell_type": "markdown",
   "id": "4a658354",
   "metadata": {},
   "source": [
    "### Magnitude of u vectors"
   ]
  },
  {
   "cell_type": "code",
   "execution_count": 14,
   "id": "6bc55e14",
   "metadata": {},
   "outputs": [
    {
     "name": "stdout",
     "output_type": "stream",
     "text": [
      "the size (magnitude) of u1 =  1.0 \n",
      "\n",
      "the size (magnitude) of u2 =  1.0 \n",
      "\n",
      "the size (magnitude) of u3 =  0.9999999999999999 \n",
      "\n",
      "the size (magnitude) of u4 =  1.0\n"
     ]
    }
   ],
   "source": [
    "print(\"the size (magnitude) of u1 = \", np.sqrt(u1.dot(u1)), \"\\n\")\n",
    "print(\"the size (magnitude) of u2 = \", np.sqrt(u2.dot(u2)), \"\\n\")\n",
    "print(\"the size (magnitude) of u3 = \", np.sqrt(u3.dot(u3)), \"\\n\")\n",
    "print(\"the size (magnitude) of u4 = \", np.sqrt(u4.dot(u4)))"
   ]
  },
  {
   "cell_type": "markdown",
   "id": "16611da5",
   "metadata": {},
   "source": [
    "### Show that all u vectors are perpendicular to eachother"
   ]
  },
  {
   "cell_type": "code",
   "execution_count": 17,
   "id": "938a9684",
   "metadata": {},
   "outputs": [
    {
     "name": "stdout",
     "output_type": "stream",
     "text": [
      "u1 . u2 =  -0.0\n",
      "u1 . u3 =  0.0\n",
      "u1 . u4 =  0.0\n",
      "u2 . u3 =  -0.0\n",
      "u2 . u4 =  -0.0\n",
      "u3 . u4 =  -0.0\n"
     ]
    }
   ],
   "source": [
    "print(\"u1 . u2 = \", round(u1.dot(u2),2))\n",
    "print(\"u1 . u3 = \", round(u1.dot(u3),2))\n",
    "print(\"u1 . u4 = \", round(u1.dot(u4),2))\n",
    "print(\"u2 . u3 = \", round(u2.dot(u3),2))\n",
    "print(\"u2 . u4 = \", round(u2.dot(u4),2))\n",
    "print(\"u3 . u4 = \", round(u3.dot(u4),2))"
   ]
  },
  {
   "cell_type": "markdown",
   "id": "2bc09977",
   "metadata": {},
   "source": [
    "### Write the r vectors in terms of u vectors"
   ]
  },
  {
   "cell_type": "code",
   "execution_count": 12,
   "id": "56845111",
   "metadata": {
    "scrolled": true
   },
   "outputs": [
    {
     "name": "stdout",
     "output_type": "stream",
     "text": [
      "r1 =  4.24 u1 +  -0.0 u2 +  0.0 u3 +  0.0 u4\n",
      "\n",
      "r2 =  4.24 u1 +  3.61 u2 +  -0.0 u3 +  -0.0 u4\n",
      "\n",
      "r3 =  -8.49 u1 +  -7.21 u2 +  1.41 u3 +  0.0 u4\n",
      "\n",
      "r4 =  -12.73 u1 +  0.0 u2 +  -2.83 u3 +  3.61 u4\n"
     ]
    }
   ],
   "source": [
    "print(\"r1 = \", round(r1.dot(u1),2), \"u1 + \", round(r1.dot(u2),2), \"u2 + \", round(r1.dot(u3),2), \"u3 + \", round(r1.dot(u4),2), \"u4\\n\")\n",
    "print(\"r2 = \", round(r2.dot(u1),2), \"u1 + \", round(r2.dot(u2),2), \"u2 + \", round(r2.dot(u3),2), \"u3 + \", round(r2.dot(u4),2), \"u4\\n\")\n",
    "print(\"r3 = \", round(r3.dot(u1),2), \"u1 + \", round(r3.dot(u2),2), \"u2 + \", round(r3.dot(u3),2), \"u3 + \", round(r3.dot(u4),2), \"u4\\n\")\n",
    "print(\"r4 = \", round(r4.dot(u1),2), \"u1 + \", round(r4.dot(u2),2), \"u2 + \", round(r4.dot(u3),2), \"u3 + \", round(r4.dot(u4),2), \"u4\")"
   ]
  },
  {
   "cell_type": "code",
   "execution_count": 18,
   "id": "5bd3fdff",
   "metadata": {},
   "outputs": [
    {
     "name": "stdout",
     "output_type": "stream",
     "text": [
      "😂\n"
     ]
    }
   ],
   "source": [
    "print(\"😂\")"
   ]
  }
 ],
 "metadata": {
  "kernelspec": {
   "display_name": "Python 3 (ipykernel)",
   "language": "python",
   "name": "python3"
  },
  "language_info": {
   "codemirror_mode": {
    "name": "ipython",
    "version": 3
   },
   "file_extension": ".py",
   "mimetype": "text/x-python",
   "name": "python",
   "nbconvert_exporter": "python",
   "pygments_lexer": "ipython3",
   "version": "3.10.4"
  }
 },
 "nbformat": 4,
 "nbformat_minor": 5
}
